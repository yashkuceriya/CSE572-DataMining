{
 "cells": [
  {
   "cell_type": "code",
   "execution_count": 5,
   "id": "7fab29c3",
   "metadata": {},
   "outputs": [],
   "source": [
    "import pandas as pd\n",
    "import numpy as np\n",
    "from sklearn.metrics.pairwise import pairwise_distances\n",
    "from sklearn.metrics import accuracy_score"
   ]
  },
  {
   "cell_type": "code",
   "execution_count": 6,
   "id": "55585057",
   "metadata": {},
   "outputs": [],
   "source": [
    "class KClustering:\n",
    "    \n",
    "    def __init__(self, num_clusters, stop_criteria=\"no_change\") -> None:\n",
    "        self.stop_criteria = stop_criteria\n",
    "        self.num_clusters = num_clusters\n",
    "        self.centroids = None\n",
    "        self.sse_score = None\n",
    "        self.last_sse_score = -1 ## squares cannot be negative, just taking a negative number\n",
    "        self.iterations = 0\n",
    "        \n",
    "    def get_sse(self):\n",
    "        return self.sse_score\n",
    "    \n",
    "    def get_total_iterations(self):\n",
    "        return self.iterations\n",
    "    \n",
    "    def euclidean_distance(self, point, centroids):\n",
    "        return np.sqrt(np.sum((centroids - point)**2, axis=1))\n",
    "\n",
    "    def sum_of_sse(self, centroids, data, cluster_assignments):\n",
    "        error_sum = 0\n",
    "        for idx, d in enumerate(data):\n",
    "            error_sum += np.sum((centroids[cluster_assignments[idx]] - d) ** 2)\n",
    "        return error_sum\n",
    "\n",
    "    \n",
    "    \n",
    "    def fit(self, X, max_iterations=500):\n",
    "        # Initializing centroids randomly\n",
    "        self.centroids = np.random.uniform(\n",
    "            low=np.amin(X, axis=0),\n",
    "            high=np.amax(X, axis=0),\n",
    "            size=(self.num_clusters, X.shape[1]))\n",
    "\n",
    "        for _ in range(max_iterations):\n",
    "            # Assigning \n",
    "            cluster_assignments = []\n",
    "            for point in X:\n",
    "                distances = self.euclidean_distance(point,centroids=self.centroids)\n",
    "                cluster_num = np.argmin(distances)\n",
    "                cluster_assignments.append(cluster_num)\n",
    "\n",
    "            cluster_assignments = np.asarray(cluster_assignments)\n",
    "\n",
    "            # Calculating new centroids based on assigned clusters\n",
    "            cluster_indices = []\n",
    "            for idx in range(self.num_clusters):\n",
    "                cluster_indices.append(np.argwhere(cluster_assignments == idx))\n",
    "\n",
    "            new_centroids = []\n",
    "            for i, indices in enumerate(cluster_indices):\n",
    "                if len(indices) == 0:\n",
    "                    new_centroids.append(self.centroids[i])\n",
    "                else:\n",
    "                    new_centroids.append(np.mean(X[indices], axis=0)[0])\n",
    "\n",
    "            # Stopping criteria\n",
    "            if self.stop_criteria == \"no_change\" and np.max(self.centroids - np.array(new_centroids)) < 1e-2:\n",
    "                break\n",
    "            elif self.stop_criteria == \"increase_sse\":\n",
    "                current_sse = self.sum_of_sse(X, np.array(new_centroids), cluster_assignments)\n",
    "                if current_sse > self.last_sse_score:\n",
    "                    break\n",
    "                self.last_sse_score = current_sse\n",
    "            else:\n",
    "                self.centroids = np.array(new_centroids)\n",
    "            \n",
    "            self.iterations += 1\n",
    "\n",
    "        # Calculate the final SSE after performing K-means\n",
    "        self.sse_score = self.sum_of_sse(X, self.centroids, cluster_assignments)\n",
    "        \n",
    "        return cluster_assignments\n"
   ]
  },
  {
   "cell_type": "code",
   "execution_count": 7,
   "id": "401024a1",
   "metadata": {},
   "outputs": [],
   "source": [
    "dataset = np.array(pd.read_csv(r'C:\\\\Users\\\\Yash\\\\jupyter\\\\Data Mining\\\\hw3\\\\kmeans_data\\\\data.csv', header=None))\n",
    "labels = np.ravel(pd.read_csv(r'C:\\\\Users\\\\Yash\\\\jupyter\\\\Data Mining\\\\hw3\\\\kmeans_data\\\\label.csv', header=None))"
   ]
  },
  {
   "cell_type": "code",
   "execution_count": 8,
   "id": "90ea6a07",
   "metadata": {},
   "outputs": [
    {
     "data": {
      "text/plain": [
       "(10000, 784)"
      ]
     },
     "execution_count": 8,
     "metadata": {},
     "output_type": "execute_result"
    }
   ],
   "source": [
    "dataset.shape"
   ]
  },
  {
   "cell_type": "code",
   "execution_count": 9,
   "id": "780ff701",
   "metadata": {},
   "outputs": [],
   "source": [
    "no_of_classes = np.unique(labels)\n",
    "no_of_clusters = no_of_classes.size\n",
    "total_iters = 100\n",
    "kmeans_euclid = KClustering(num_clusters=no_of_clusters)\n",
    "##fitting\n",
    "\n",
    "kmeans_model = kmeans_euclid.fit(X=dataset, max_iterations= total_iters)"
   ]
  },
  {
   "cell_type": "markdown",
   "id": "fb7c5541",
   "metadata": {},
   "source": [
    "## Distance model training and SSE Scores "
   ]
  },
  {
   "cell_type": "markdown",
   "id": "97a31606",
   "metadata": {},
   "source": [
    "### SSE eucledian"
   ]
  },
  {
   "cell_type": "code",
   "execution_count": 12,
   "id": "ecff8726",
   "metadata": {},
   "outputs": [
    {
     "data": {
      "text/plain": [
       "43726406.20834501"
      ]
     },
     "execution_count": 12,
     "metadata": {},
     "output_type": "execute_result"
    }
   ],
   "source": [
    "np.unique(kmeans_model)\n",
    "sse_euclid = kmeans_euclid.get_sse()\n",
    "sse_euclid"
   ]
  },
  {
   "cell_type": "markdown",
   "id": "f9dff96c",
   "metadata": {},
   "source": [
    "### SSE cosine"
   ]
  },
  {
   "cell_type": "code",
   "execution_count": 97,
   "id": "449b1ca4",
   "metadata": {},
   "outputs": [],
   "source": [
    "cos_dis = pairwise_distances(dataset, metric='cosine')\n",
    "cos_dis_kmeans = KClustering(num_clusters=no_of_clusters)\n",
    "cos_dis_kmeans_model = cos_dis_kmeans.fit(cos_dis, max_iterations=total_iters)"
   ]
  },
  {
   "cell_type": "code",
   "execution_count": 98,
   "id": "5aa66449",
   "metadata": {},
   "outputs": [
    {
     "data": {
      "text/plain": [
       "4476.190850191341"
      ]
     },
     "execution_count": 98,
     "metadata": {},
     "output_type": "execute_result"
    }
   ],
   "source": [
    "np.unique(cos_dis_kmeans_model)\n",
    "sse_cosine = cos_dis_kmeans.get_sse()\n",
    "sse_cosine"
   ]
  },
  {
   "cell_type": "markdown",
   "id": "2bedab6f",
   "metadata": {},
   "source": [
    "### SSE Jarcard"
   ]
  },
  {
   "cell_type": "code",
   "execution_count": 17,
   "id": "1ec7cba7",
   "metadata": {},
   "outputs": [],
   "source": [
    "jaccard_dis = pairwise_distances(dataset, metric='hamming')\n",
    "jaccard_kmeans = KClustering(num_clusters=no_of_clusters)\n",
    "## fitting \n",
    "jaccard_kmeans_results = jaccard_kmeans.fit(X=jaccard_dis, max_iterations=total_iters)"
   ]
  },
  {
   "cell_type": "code",
   "execution_count": 18,
   "id": "9950e6e1",
   "metadata": {},
   "outputs": [
    {
     "data": {
      "text/plain": [
       "1007.8569085334295"
      ]
     },
     "execution_count": 18,
     "metadata": {},
     "output_type": "execute_result"
    }
   ],
   "source": [
    "see_jaccard = jaccard_kmeans.get_sse()\n",
    "see_jaccard"
   ]
  },
  {
   "cell_type": "markdown",
   "id": "01de4a35",
   "metadata": {},
   "source": [
    "## Part 2"
   ]
  },
  {
   "cell_type": "code",
   "execution_count": 102,
   "id": "5f2bd09b",
   "metadata": {},
   "outputs": [],
   "source": [
    "\n",
    "def generate_cluster_labels(clusters, true_labels):\n",
    "\n",
    "    unique_classes = np.unique(true_labels)\n",
    "    predicted_labels = np.zeros(len(clusters))\n",
    "    \n",
    "    for cluster_id in range(len(np.unique(clusters))):\n",
    "\n",
    "        indices = np.flatnonzero(clusters == cluster_id)\n",
    "        cluster_true_labels = true_labels[indices]\n",
    "        votes = [np.count_nonzero(cluster_true_labels == cls) for cls in unique_classes]\n",
    "\n",
    "        max_label = np.argmax(votes)\n",
    "        predicted_labels[indices] = unique_classes[max_label]\n",
    "        \n",
    "    return predicted_labels"
   ]
  },
  {
   "cell_type": "code",
   "execution_count": 104,
   "id": "7f30e322",
   "metadata": {},
   "outputs": [],
   "source": [
    "labels_euclid = generate_cluster_labels(kmeans_model, labels)\n",
    "labels_cosine = generate_cluster_labels(cos_dis_kmeans_model, labels)\n",
    "labels_jaccard = generate_cluster_labels(jaccard_kmeans_results, labels)"
   ]
  },
  {
   "cell_type": "code",
   "execution_count": 106,
   "id": "1b8854f4",
   "metadata": {},
   "outputs": [],
   "source": [
    "# Compute predictive accuracy\n",
    "accuracy_euclid = accuracy_score(labels, labels_euclid)\n",
    "accuracy_cosine = accuracy_score(labels, labels_cosine)\n",
    "accuracy_jaccard = accuracy_score(labels, labels_jaccard)"
   ]
  },
  {
   "cell_type": "code",
   "execution_count": 108,
   "id": "595a1e03",
   "metadata": {},
   "outputs": [
    {
     "data": {
      "text/plain": [
       "(0.6059, 0.3331, 0.1699)"
      ]
     },
     "execution_count": 108,
     "metadata": {},
     "output_type": "execute_result"
    }
   ],
   "source": [
    "accuracy_euclid,accuracy_cosine,accuracy_jaccard ## Euclid Better"
   ]
  },
  {
   "cell_type": "markdown",
   "id": "3a926460",
   "metadata": {},
   "source": [
    "#### Part 3"
   ]
  },
  {
   "cell_type": "code",
   "execution_count": 25,
   "id": "5fd3e9af",
   "metadata": {},
   "outputs": [],
   "source": [
    "euclidean_iters = kmeans_euclid.get_total_iterations()\n",
    "cosine_iters = cos_dis_kmeans.get_total_iterations()\n",
    "jarcard_iters = jaccard_kmeans.get_total_iterations()"
   ]
  },
  {
   "cell_type": "code",
   "execution_count": 26,
   "id": "54dfe486",
   "metadata": {},
   "outputs": [
    {
     "data": {
      "text/plain": [
       "(42, 10, 3)"
      ]
     },
     "execution_count": 26,
     "metadata": {},
     "output_type": "execute_result"
    }
   ],
   "source": [
    "euclidean_iters, cosine_iters, jarcard_iters ## euclid takes most iterations to converge"
   ]
  },
  {
   "cell_type": "markdown",
   "id": "e697e038",
   "metadata": {},
   "source": [
    "## Part 4"
   ]
  },
  {
   "cell_type": "markdown",
   "id": "193ea301",
   "metadata": {},
   "source": [
    "(a) no change in centroid position"
   ]
  },
  {
   "cell_type": "code",
   "execution_count": 29,
   "id": "c8b00ded",
   "metadata": {},
   "outputs": [],
   "source": [
    "kmeans_euclid2 = KClustering(num_clusters=no_of_clusters)\n",
    "\n",
    "euclidean_kmeans_prediction = kmeans_euclid2.fit(dataset, max_iterations=total_iters)\n",
    "\n",
    "sse_euclid_sum = kmeans_euclid2.get_sse()"
   ]
  },
  {
   "cell_type": "code",
   "execution_count": 30,
   "id": "53396436",
   "metadata": {},
   "outputs": [
    {
     "data": {
      "text/plain": [
       "40562073.565572545"
      ]
     },
     "execution_count": 30,
     "metadata": {},
     "output_type": "execute_result"
    }
   ],
   "source": [
    "sse_euclid_sum"
   ]
  },
  {
   "cell_type": "code",
   "execution_count": 31,
   "id": "42ecec4a",
   "metadata": {},
   "outputs": [],
   "source": [
    "kmeans_cosine2 = KClustering(num_clusters=no_of_clusters)\n",
    "cosine_kmeans_prediction = kmeans_cosine2.fit(cos_dis, max_iterations=total_iters)\n",
    "sse_cosine_kmeans = kmeans_cosine2.get_sse()\n"
   ]
  },
  {
   "cell_type": "code",
   "execution_count": 32,
   "id": "40b41489",
   "metadata": {},
   "outputs": [
    {
     "data": {
      "text/plain": [
       "3444.1059173336926"
      ]
     },
     "execution_count": 32,
     "metadata": {},
     "output_type": "execute_result"
    }
   ],
   "source": [
    "sse_cosine_kmeans"
   ]
  },
  {
   "cell_type": "code",
   "execution_count": 33,
   "id": "58494d12",
   "metadata": {},
   "outputs": [],
   "source": [
    "jaccard_kmeans2 = KClustering(num_clusters=no_of_clusters)\n",
    "jaccard_kmeans_prediction = jaccard_kmeans2.fit(jaccard_dis, max_iterations=total_iters)\n",
    "sse_jaccard_kmeans = jaccard_kmeans2.get_sse()"
   ]
  },
  {
   "cell_type": "code",
   "execution_count": 34,
   "id": "f3ea16ac",
   "metadata": {},
   "outputs": [
    {
     "data": {
      "text/plain": [
       "1385.8271978591379"
      ]
     },
     "execution_count": 34,
     "metadata": {},
     "output_type": "execute_result"
    }
   ],
   "source": [
    "sse_jaccard_kmeans = jaccard_kmeans2.get_sse()\n",
    "sse_jaccard_kmeans"
   ]
  },
  {
   "cell_type": "markdown",
   "id": "cdc46a8b",
   "metadata": {},
   "source": [
    "##### (b) Increase Criteria"
   ]
  },
  {
   "cell_type": "code",
   "execution_count": 36,
   "id": "9ab9cbf4",
   "metadata": {},
   "outputs": [],
   "source": [
    "euclidean_kmeans3 = KClustering(num_clusters=no_of_clusters, stop_criteria=\"increase_sse\")\n",
    "euclidean_kmeans_prediction = euclidean_kmeans3.fit(dataset, max_iterations=total_iters)\n",
    "sse_euclidean_kmeans3 = euclidean_kmeans3.get_sse()\n"
   ]
  },
  {
   "cell_type": "code",
   "execution_count": 37,
   "id": "699e2a48",
   "metadata": {},
   "outputs": [
    {
     "data": {
      "text/plain": [
       "125919280.34025426"
      ]
     },
     "execution_count": 37,
     "metadata": {},
     "output_type": "execute_result"
    }
   ],
   "source": [
    "sse_euclidean_kmeans3"
   ]
  },
  {
   "cell_type": "code",
   "execution_count": 38,
   "id": "bc0b6c1a",
   "metadata": {},
   "outputs": [],
   "source": [
    "kmeans_cosine3 = KClustering(num_clusters=no_of_clusters, stop_criteria=\"increase_sse\")\n",
    "cosine_kmeans_prediction = kmeans_cosine3.fit(cos_dis, max_iterations=total_iters)\n",
    "sse_cosine_kmeans_increase_sse = kmeans_cosine3.get_sse()"
   ]
  },
  {
   "cell_type": "code",
   "execution_count": 39,
   "id": "753f57c4",
   "metadata": {},
   "outputs": [
    {
     "data": {
      "text/plain": [
       "11234.808459731195"
      ]
     },
     "execution_count": 39,
     "metadata": {},
     "output_type": "execute_result"
    }
   ],
   "source": [
    "sse_cosine_kmeans_increase_sse"
   ]
  },
  {
   "cell_type": "code",
   "execution_count": 40,
   "id": "6bcd8557",
   "metadata": {},
   "outputs": [],
   "source": [
    "jaccard_kmeans3 = KClustering(num_clusters=no_of_clusters, stop_criteria=\"increase_sse\")\n",
    "jaccard_kmeans_prediction = jaccard_kmeans3.fit(jaccard_dis, max_iterations=total_iters)\n",
    "sse_jaccard_kmeans_increase_sse = jaccard_kmeans3.get_sse()"
   ]
  },
  {
   "cell_type": "code",
   "execution_count": 41,
   "id": "a16f0cf7",
   "metadata": {},
   "outputs": [
    {
     "data": {
      "text/plain": [
       "2069.9313308229252"
      ]
     },
     "execution_count": 41,
     "metadata": {},
     "output_type": "execute_result"
    }
   ],
   "source": [
    "sse_jaccard_kmeans_increase_sse"
   ]
  },
  {
   "cell_type": "markdown",
   "id": "ebdb7c57",
   "metadata": {},
   "source": [
    "##### (c) for max iterations"
   ]
  },
  {
   "cell_type": "code",
   "execution_count": 43,
   "id": "82a6704e",
   "metadata": {},
   "outputs": [],
   "source": [
    "euclidean_kmeans4 = KClustering(num_clusters=no_of_clusters, stop_criteria=\"max_iterations\")\n",
    "euclidean_kmeans_prediction = euclidean_kmeans4.fit(dataset, max_iterations=total_iters)\n",
    "sse_euclidean_kmeans_max_iter = euclidean_kmeans4.get_sse()"
   ]
  },
  {
   "cell_type": "code",
   "execution_count": 44,
   "id": "d689bd28",
   "metadata": {},
   "outputs": [
    {
     "data": {
      "text/plain": [
       "49050935.04678958"
      ]
     },
     "execution_count": 44,
     "metadata": {},
     "output_type": "execute_result"
    }
   ],
   "source": [
    "sse_euclidean_kmeans_max_iter"
   ]
  },
  {
   "cell_type": "code",
   "execution_count": 45,
   "id": "975c4418",
   "metadata": {},
   "outputs": [],
   "source": [
    "kmeans_cosine3 = KClustering(num_clusters=no_of_clusters, stop_criteria=\"max_iterations\")\n",
    "cosine_kmeans_prediction = kmeans_cosine3.fit(cos_dis, max_iterations=total_iters)\n",
    "sse_cosine_kmeans_max_iter = kmeans_cosine3.get_sse()"
   ]
  },
  {
   "cell_type": "code",
   "execution_count": 46,
   "id": "790ace4e",
   "metadata": {},
   "outputs": [
    {
     "data": {
      "text/plain": [
       "1875.255911886788"
      ]
     },
     "execution_count": 46,
     "metadata": {},
     "output_type": "execute_result"
    }
   ],
   "source": [
    "sse_cosine_kmeans_max_iter "
   ]
  },
  {
   "cell_type": "code",
   "execution_count": 47,
   "id": "bb0d820b",
   "metadata": {},
   "outputs": [],
   "source": [
    "jaccard_kmeans3 = KClustering(num_clusters=no_of_clusters, stop_criteria=\"max_iterations\")\n",
    "jaccard_kmeans_prediction = jaccard_kmeans3.fit(jaccard_dis, max_iterations=total_iters)\n",
    "sse_jaccard_kmeans_max_iter = jaccard_kmeans3.get_sse()"
   ]
  },
  {
   "cell_type": "code",
   "execution_count": 48,
   "id": "e298b39c",
   "metadata": {},
   "outputs": [
    {
     "data": {
      "text/plain": [
       "1631.146425318516"
      ]
     },
     "execution_count": 48,
     "metadata": {},
     "output_type": "execute_result"
    }
   ],
   "source": [
    "sse_jaccard_kmeans_max_iter"
   ]
  },
  {
   "cell_type": "markdown",
   "id": "50cea042",
   "metadata": {},
   "source": [
    "\n",
    "## Task 2: Recommender Systems with Matrix Data\n",
    "\n",
    "This section focuses on building and analyzing a recommender system using collaborative filtering methods and matrix factorization.\n"
   ]
  },
  {
   "cell_type": "code",
   "execution_count": 50,
   "id": "3a07f255-10d5-4d88-bfc3-2f8399498c3b",
   "metadata": {},
   "outputs": [
    {
     "name": "stdout",
     "output_type": "stream",
     "text": [
      "Requirement already satisfied: surprise in c:\\users\\yash\\anaconda3\\lib\\site-packages (0.1)\n",
      "Requirement already satisfied: scikit-surprise in c:\\users\\yash\\anaconda3\\lib\\site-packages (from surprise) (1.1.4)\n",
      "Requirement already satisfied: joblib>=1.2.0 in c:\\users\\yash\\anaconda3\\lib\\site-packages (from scikit-surprise->surprise) (1.4.2)\n",
      "Requirement already satisfied: numpy>=1.19.5 in c:\\users\\yash\\anaconda3\\lib\\site-packages (from scikit-surprise->surprise) (1.26.4)\n",
      "Requirement already satisfied: scipy>=1.6.0 in c:\\users\\yash\\anaconda3\\lib\\site-packages (from scikit-surprise->surprise) (1.13.1)\n",
      "Note: you may need to restart the kernel to use updated packages.\n"
     ]
    }
   ],
   "source": [
    "pip install surprise"
   ]
  },
  {
   "cell_type": "code",
   "execution_count": 51,
   "id": "aebb2414",
   "metadata": {},
   "outputs": [],
   "source": [
    "# Import necessary libraries\n",
    "from surprise import Dataset, Reader, KNNBasic, SVD\n",
    "from surprise.model_selection import cross_validate\n",
    "import matplotlib.pyplot as plt\n",
    "import numpy as np\n",
    "\n",
    "# File path to the dataset\n",
    "ratings_file = 'C:\\\\Users\\\\Yash\\\\jupyter\\\\Data Mining\\\\hw3\\\\kmeans_data\\\\ratings_small.csv'\n",
    "\n",
    "# a. Load data\n",
    "reader = Reader(line_format='user item rating timestamp', sep=',', skip_lines=1)\n",
    "data = Dataset.load_from_file(ratings_file, reader=reader)\n",
    "\n",
    "# Algorithms to evaluate\n",
    "algorithms = {\n",
    "    \"User-Based CF\": KNNBasic(sim_options={'user_based': True}),\n",
    "    \"Item-Based CF\": KNNBasic(sim_options={'user_based': False}),\n",
    "    \"PMF (SVD)\": SVD()\n",
    "}\n"
   ]
  },
  {
   "cell_type": "code",
   "execution_count": 118,
   "id": "5e56fb22",
   "metadata": {},
   "outputs": [
    {
     "name": "stdout",
     "output_type": "stream",
     "text": [
      "Computing the msd similarity matrix...\n",
      "Done computing similarity matrix.\n",
      "Computing the msd similarity matrix...\n",
      "Done computing similarity matrix.\n",
      "Computing the msd similarity matrix...\n",
      "Done computing similarity matrix.\n",
      "Computing the msd similarity matrix...\n",
      "Done computing similarity matrix.\n",
      "Computing the msd similarity matrix...\n",
      "Done computing similarity matrix.\n",
      "Evaluating RMSE, MAE of algorithm KNNBasic on 5 split(s).\n",
      "\n",
      "                  Fold 1  Fold 2  Fold 3  Fold 4  Fold 5  Mean    Std     \n",
      "RMSE (testset)    0.9728  0.9637  0.9732  0.9667  0.9553  0.9663  0.0066  \n",
      "MAE (testset)     0.7474  0.7394  0.7501  0.7414  0.7371  0.7431  0.0049  \n",
      "Fit time          0.30    0.26    0.26    0.25    0.16    0.24    0.05    \n",
      "Test time         1.50    1.40    1.55    1.06    1.07    1.32    0.21    \n",
      "Computing the msd similarity matrix...\n",
      "Done computing similarity matrix.\n",
      "Computing the msd similarity matrix...\n",
      "Done computing similarity matrix.\n",
      "Computing the msd similarity matrix...\n",
      "Done computing similarity matrix.\n",
      "Computing the msd similarity matrix...\n",
      "Done computing similarity matrix.\n",
      "Computing the msd similarity matrix...\n",
      "Done computing similarity matrix.\n",
      "Evaluating RMSE, MAE of algorithm KNNBasic on 5 split(s).\n",
      "\n",
      "                  Fold 1  Fold 2  Fold 3  Fold 4  Fold 5  Mean    Std     \n",
      "RMSE (testset)    0.9452  0.9320  0.9329  0.9301  0.9389  0.9358  0.0055  \n",
      "MAE (testset)     0.7276  0.7200  0.7171  0.7188  0.7241  0.7215  0.0038  \n",
      "Fit time          3.24    3.04    2.99    3.03    3.19    3.10    0.10    \n",
      "Test time         4.45    4.07    4.47    4.56    4.88    4.49    0.26    \n",
      "Evaluating RMSE, MAE of algorithm SVD on 5 split(s).\n",
      "\n",
      "                  Fold 1  Fold 2  Fold 3  Fold 4  Fold 5  Mean    Std     \n",
      "RMSE (testset)    0.8981  0.8924  0.8941  0.8961  0.8993  0.8960  0.0025  \n",
      "MAE (testset)     0.6926  0.6859  0.6859  0.6909  0.6941  0.6899  0.0034  \n",
      "Fit time          0.82    0.71    0.77    1.04    0.83    0.84    0.11    \n",
      "Test time         0.10    0.09    0.25    0.10    0.10    0.13    0.06    \n",
      "\n",
      "Performance Comparison:\n",
      "User-Based CF - Average RMSE: 0.9663, Average MAE: 0.7431\n",
      "Item-Based CF - Average RMSE: 0.9358, Average MAE: 0.7215\n",
      "PMF (SVD) - Average RMSE: 0.8960, Average MAE: 0.6899\n"
     ]
    }
   ],
   "source": [
    "# c. Compute RMSE and MAE for each algorithm (5-fold CV)\n",
    "results = {}\n",
    "for name, algo in algorithms.items():\n",
    "    results[name] = cross_validate(algo, data, measures=['RMSE', 'MAE'], cv=5, verbose=True)\n",
    "\n",
    "# d. Display mean performances\n",
    "print(\"\\nPerformance Comparison:\")\n",
    "for name, metrics in results.items():\n",
    "    print(f\"{name} - Average RMSE: {np.mean(metrics['test_rmse']):.4f}, Average MAE: {np.mean(metrics['test_mae']):.4f}\")\n",
    "\n",
    "\n"
   ]
  },
  {
   "cell_type": "code",
   "execution_count": 122,
   "id": "dd68a164-3a14-4a10-92a9-3faa0d634746",
   "metadata": {},
   "outputs": [
    {
     "name": "stdout",
     "output_type": "stream",
     "text": [
      "Computing the cosine similarity matrix...\n",
      "Done computing similarity matrix.\n",
      "Computing the cosine similarity matrix...\n",
      "Done computing similarity matrix.\n",
      "Computing the cosine similarity matrix...\n",
      "Done computing similarity matrix.\n",
      "Computing the cosine similarity matrix...\n",
      "Done computing similarity matrix.\n",
      "Computing the cosine similarity matrix...\n",
      "Done computing similarity matrix.\n",
      "Computing the cosine similarity matrix...\n",
      "Done computing similarity matrix.\n",
      "Computing the msd similarity matrix...\n",
      "Done computing similarity matrix.\n",
      "Computing the msd similarity matrix...\n",
      "Done computing similarity matrix.\n",
      "Computing the msd similarity matrix...\n",
      "Done computing similarity matrix.\n",
      "Computing the msd similarity matrix...\n",
      "Done computing similarity matrix.\n",
      "Computing the msd similarity matrix...\n",
      "Done computing similarity matrix.\n",
      "Computing the msd similarity matrix...\n",
      "Done computing similarity matrix.\n",
      "Computing the pearson similarity matrix...\n",
      "Done computing similarity matrix.\n",
      "Computing the pearson similarity matrix...\n",
      "Done computing similarity matrix.\n",
      "Computing the pearson similarity matrix...\n",
      "Done computing similarity matrix.\n",
      "Computing the pearson similarity matrix...\n",
      "Done computing similarity matrix.\n",
      "Computing the pearson similarity matrix...\n",
      "Done computing similarity matrix.\n",
      "Computing the pearson similarity matrix...\n",
      "Done computing similarity matrix.\n",
      "\n",
      "Performance Metrics (User-Based CF):\n",
      "Cosine - RMSE: 1.0020, MAE: 0.7749\n",
      "Msd - RMSE: 0.9782, MAE: 0.7518\n",
      "Pearson - RMSE: 1.0107, MAE: 0.7812\n",
      "\n",
      "Performance Metrics (Item-Based CF):\n",
      "Cosine - RMSE: 0.9945, MAE: 0.7738\n",
      "Msd - RMSE: 0.9411, MAE: 0.7254\n",
      "Pearson - RMSE: 0.9938, MAE: 0.7692\n"
     ]
    },
    {
     "data": {
      "image/png": "[encoded data removed]",
      "text/plain": [
       "<Figure size 1200x600 with 1 Axes>"
      ]
     },
     "metadata": {},
     "output_type": "display_data"
    }
   ],
   "source": [
    "# f. COmparison of RMSE  \n",
    "# Define similarity metrics\n",
    "similarity_metrics = ['cosine', 'msd', 'pearson']\n",
    "\n",
    "# Initialize storage for performance metrics\n",
    "performance_rmse_user = []\n",
    "performance_mae_user = []\n",
    "performance_rmse_item = []\n",
    "performance_mae_item = []\n",
    "\n",
    "# Compute and store RMSE and MAE for each similarity metric\n",
    "for sim_metric in similarity_metrics:\n",
    "    # User-Based CF\n",
    "    user_cf = KNNBasic(sim_options={'name': sim_metric, 'user_based': True})\n",
    "    user_result = cross_validate(user_cf, data, measures=['RMSE', 'MAE'], cv=3, verbose=False)\n",
    "    performance_rmse_user.append(np.mean(user_result['test_rmse']))\n",
    "    performance_mae_user.append(np.mean(user_result['test_mae']))\n",
    "    \n",
    "    # Item-Based CF\n",
    "    item_cf = KNNBasic(sim_options={'name': sim_metric, 'user_based': False})\n",
    "    item_result = cross_validate(item_cf, data, measures=['RMSE', 'MAE'], cv=3, verbose=False)\n",
    "    performance_rmse_item.append(np.mean(item_result['test_rmse']))\n",
    "    performance_mae_item.append(np.mean(item_result['test_mae']))\n",
    "\n",
    "# Print RMSE and MAE for each similarity metric\n",
    "print(\"\\nPerformance Metrics (User-Based CF):\")\n",
    "for metric, rmse, mae in zip(similarity_metrics, performance_rmse_user, performance_mae_user):\n",
    "    print(f\"{metric.capitalize()} - RMSE: {rmse:.4f}, MAE: {mae:.4f}\")\n",
    "\n",
    "print(\"\\nPerformance Metrics (Item-Based CF):\")\n",
    "for metric, rmse, mae in zip(similarity_metrics, performance_rmse_item, performance_mae_item):\n",
    "    print(f\"{metric.capitalize()} - RMSE: {rmse:.4f}, MAE: {mae:.4f}\")\n",
    "\n",
    "# Plot RMSE and MAE for both methods\n",
    "x = np.arange(len(similarity_metrics))  # Label locations\n",
    "width = 0.2  # Bar width\n",
    "\n",
    "fig, ax = plt.subplots(figsize=(12, 6))\n",
    "\n",
    "# RMSE bars\n",
    "bars_rmse_user = ax.bar(x - 1.5 * width, performance_rmse_user, width, label='RMSE - User-Based CF', color='skyblue')\n",
    "bars_rmse_item = ax.bar(x - 0.5 * width, performance_rmse_item, width, label='RMSE - Item-Based CF', color='orange')\n",
    "\n",
    "# MAE bars\n",
    "bars_mae_user = ax.bar(x + 0.5 * width, performance_mae_user, width, label='MAE - User-Based CF', color='green')\n",
    "bars_mae_item = ax.bar(x + 1.5 * width, performance_mae_item, width, label='MAE - Item-Based CF', color='red')\n",
    "\n",
    "# Add labels, title, and legend\n",
    "ax.set_xlabel('Similarity Metric', fontsize=14)\n",
    "ax.set_ylabel('Performance Metrics', fontsize=14)\n",
    "ax.set_title('Comparison of RMSE and MAE for Similarity Metrics', fontsize=16)\n",
    "ax.set_xticks(x)\n",
    "ax.set_xticklabels(similarity_metrics, fontsize=12)\n",
    "ax.legend(fontsize=12)\n",
    "\n",
    "# Annotate bar heights\n",
    "for bar in bars_rmse_user + bars_rmse_item + bars_mae_user + bars_mae_item:\n",
    "    ax.text(bar.get_x() + bar.get_width() / 2, bar.get_height() + 0.005, f'{bar.get_height():.3f}', \n",
    "            ha='center', fontsize=10, color='black')\n",
    "\n",
    "plt.tight_layout()\n",
    "plt.show()\n"
   ]
  },
  {
   "cell_type": "code",
   "execution_count": 53,
   "id": "8dc96556",
   "metadata": {},
   "outputs": [
    {
     "name": "stdout",
     "output_type": "stream",
     "text": [
      "Computing the msd similarity matrix...\n",
      "Done computing similarity matrix.\n",
      "Computing the msd similarity matrix...\n",
      "Done computing similarity matrix.\n",
      "Computing the msd similarity matrix...\n",
      "Done computing similarity matrix.\n",
      "Computing the msd similarity matrix...\n",
      "Done computing similarity matrix.\n",
      "Computing the msd similarity matrix...\n",
      "Done computing similarity matrix.\n",
      "Computing the msd similarity matrix...\n",
      "Done computing similarity matrix.\n",
      "Computing the msd similarity matrix...\n",
      "Done computing similarity matrix.\n",
      "Computing the msd similarity matrix...\n",
      "Done computing similarity matrix.\n",
      "Computing the msd similarity matrix...\n",
      "Done computing similarity matrix.\n",
      "Computing the msd similarity matrix...\n",
      "Done computing similarity matrix.\n",
      "Computing the msd similarity matrix...\n",
      "Done computing similarity matrix.\n",
      "Computing the msd similarity matrix...\n",
      "Done computing similarity matrix.\n",
      "Computing the msd similarity matrix...\n",
      "Done computing similarity matrix.\n",
      "Computing the msd similarity matrix...\n",
      "Done computing similarity matrix.\n",
      "Computing the msd similarity matrix...\n",
      "Done computing similarity matrix.\n",
      "Computing the msd similarity matrix...\n",
      "Done computing similarity matrix.\n",
      "Computing the msd similarity matrix...\n",
      "Done computing similarity matrix.\n",
      "Computing the msd similarity matrix...\n",
      "Done computing similarity matrix.\n",
      "Computing the msd similarity matrix...\n",
      "Done computing similarity matrix.\n",
      "Computing the msd similarity matrix...\n",
      "Done computing similarity matrix.\n",
      "Computing the msd similarity matrix...\n",
      "Done computing similarity matrix.\n",
      "Computing the msd similarity matrix...\n",
      "Done computing similarity matrix.\n",
      "Computing the msd similarity matrix...\n",
      "Done computing similarity matrix.\n",
      "Computing the msd similarity matrix...\n",
      "Done computing similarity matrix.\n",
      "Computing the msd similarity matrix...\n",
      "Done computing similarity matrix.\n",
      "Computing the msd similarity matrix...\n",
      "Done computing similarity matrix.\n",
      "Computing the msd similarity matrix...\n",
      "Done computing similarity matrix.\n",
      "Computing the msd similarity matrix...\n",
      "Done computing similarity matrix.\n",
      "Computing the msd similarity matrix...\n",
      "Done computing similarity matrix.\n",
      "Computing the msd similarity matrix...\n",
      "Done computing similarity matrix.\n",
      "Computing the msd similarity matrix...\n",
      "Done computing similarity matrix.\n",
      "Computing the msd similarity matrix...\n",
      "Done computing similarity matrix.\n",
      "Computing the msd similarity matrix...\n",
      "Done computing similarity matrix.\n",
      "Computing the msd similarity matrix...\n",
      "Done computing similarity matrix.\n",
      "Computing the msd similarity matrix...\n",
      "Done computing similarity matrix.\n",
      "Computing the msd similarity matrix...\n",
      "Done computing similarity matrix.\n",
      "Computing the msd similarity matrix...\n",
      "Done computing similarity matrix.\n",
      "Computing the msd similarity matrix...\n",
      "Done computing similarity matrix.\n",
      "Computing the msd similarity matrix...\n",
      "Done computing similarity matrix.\n",
      "Computing the msd similarity matrix...\n",
      "Done computing similarity matrix.\n",
      "Computing the msd similarity matrix...\n",
      "Done computing similarity matrix.\n",
      "Computing the msd similarity matrix...\n",
      "Done computing similarity matrix.\n",
      "Computing the msd similarity matrix...\n",
      "Done computing similarity matrix.\n",
      "Computing the msd similarity matrix...\n",
      "Done computing similarity matrix.\n",
      "Computing the msd similarity matrix...\n",
      "Done computing similarity matrix.\n",
      "Computing the msd similarity matrix...\n",
      "Done computing similarity matrix.\n",
      "Computing the msd similarity matrix...\n",
      "Done computing similarity matrix.\n",
      "Computing the msd similarity matrix...\n",
      "Done computing similarity matrix.\n",
      "Computing the msd similarity matrix...\n",
      "Done computing similarity matrix.\n",
      "Computing the msd similarity matrix...\n",
      "Done computing similarity matrix.\n",
      "Computing the msd similarity matrix...\n",
      "Done computing similarity matrix.\n",
      "Computing the msd similarity matrix...\n",
      "Done computing similarity matrix.\n",
      "Computing the msd similarity matrix...\n",
      "Done computing similarity matrix.\n",
      "Computing the msd similarity matrix...\n",
      "Done computing similarity matrix.\n",
      "Computing the msd similarity matrix...\n",
      "Done computing similarity matrix.\n",
      "Computing the msd similarity matrix...\n",
      "Done computing similarity matrix.\n",
      "Computing the msd similarity matrix...\n",
      "Done computing similarity matrix.\n",
      "Computing the msd similarity matrix...\n",
      "Done computing similarity matrix.\n",
      "Computing the msd similarity matrix...\n",
      "Done computing similarity matrix.\n",
      "Computing the msd similarity matrix...\n",
      "Done computing similarity matrix.\n"
     ]
    },
    {
     "data": {
      "image/png": "[encoded data removed]",
      "text/plain": [
       "<Figure size 1000x600 with 1 Axes>"
      ]
     },
     "metadata": {},
     "output_type": "display_data"
    },
    {
     "name": "stdout",
     "output_type": "stream",
     "text": [
      "\n",
      "Best number of neighbors for User-Based CF: 15\n",
      "Best number of neighbors for Item-Based CF: 45\n"
     ]
    }
   ],
   "source": [
    "# f. Analyze impact of number of neighbors\n",
    "neighbors = range(5, 51, 5)\n",
    "rmse_user = []\n",
    "rmse_item = []\n",
    "\n",
    "for k in neighbors:\n",
    "    user_cf = KNNBasic(k=k, sim_options={'user_based': True})\n",
    "    item_cf = KNNBasic(k=k, sim_options={'user_based': False})\n",
    "    \n",
    "    user_result = cross_validate(user_cf, data, measures=['RMSE'], cv=3, verbose=False)\n",
    "    item_result = cross_validate(item_cf, data, measures=['RMSE'], cv=3, verbose=False)\n",
    "    \n",
    "    rmse_user.append(np.mean(user_result['test_rmse']))\n",
    "    rmse_item.append(np.mean(item_result['test_rmse']))\n",
    "\n",
    "# Plot neighbor impact\n",
    "plt.figure(figsize=(10, 6))\n",
    "plt.plot(neighbors, rmse_user, label='User-Based CF', marker='o', color='skyblue')\n",
    "plt.plot(neighbors, rmse_item, label='Item-Based CF', marker='o', color='orange')\n",
    "plt.xlabel('Number of Neighbors (k)', fontsize=14)\n",
    "plt.ylabel('Average RMSE', fontsize=14)\n",
    "plt.title('Impact of Number of Neighbors on RMSE', fontsize=16)\n",
    "plt.legend(fontsize=12)\n",
    "plt.grid()\n",
    "plt.show()\n",
    "\n",
    "# g. Find optimal number of neighbors\n",
    "best_k_user = neighbors[np.argmin(rmse_user)]\n",
    "best_k_item = neighbors[np.argmin(rmse_item)]\n",
    "\n",
    "print(f\"\\nBest number of neighbors for User-Based CF: {best_k_user}\")\n",
    "print(f\"Best number of neighbors for Item-Based CF: {best_k_item}\")\n"
   ]
  },
  {
   "cell_type": "code",
   "execution_count": null,
   "id": "235c7c74-139a-433f-8569-2ec1f290d3cb",
   "metadata": {},
   "outputs": [],
   "source": []
  }
 ],
 "metadata": {
  "kernelspec": {
   "display_name": "Python 3 (ipykernel)",
   "language": "python",
   "name": "python3"
  },
  "language_info": {
   "codemirror_mode": {
    "name": "ipython",
    "version": 3
   },
   "file_extension": ".py",
   "mimetype": "text/x-python",
   "name": "python",
   "nbconvert_exporter": "python",
   "pygments_lexer": "ipython3",
   "version": "3.12.7"
  }
 },
 "nbformat": 4,
 "nbformat_minor": 5
}
